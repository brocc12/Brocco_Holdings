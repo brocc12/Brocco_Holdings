{
 "cells": [
  {
   "cell_type": "markdown",
   "metadata": {},
   "source": [
    "## Final Project Submission\n",
    "\n",
    "Please fill out:\n",
    "* Student name: Anthony Brocco and Mikhael Hammer-Bleich \n",
    "* Student pace: full time\n",
    "* Scheduled project review date/time: Friday August 25, 2023\n",
    "* Instructor name: Joseph Mata \n",
    "\n",
    "\n",
    "## Overview\n",
    "\n",
    "Anthony and Michael attended the Flatiron School Data Science bootcamp together in 2018. Both had a keen interest in business, so together they started a small betting company using statistics to bet on positive expected value markets. Recently, they hit it big, winning $500M in a Mega Million pot. They have decided to use this money to expand their business into aviation, which is Anthony's pet passion. They use a data-dependent approach to decide which projects to pursue and have started a commercial airplane leasing company.\n",
    "\n",
    "As part of their aviation venture, Anthony and Michael are seeking to address key business questions from stakeholders, including:\n",
    "\n",
    "Stakeholder 1: What factors contribute to the safety and reliability of commercial airplanes?\n",
    "\n",
    "Stakeholder 2: How does the age of an airplane impact its performance and safety?\n",
    "\n",
    "Stakeholder 3: What are the seasonal trends in commercial aviation safety?\n",
    "\n",
    "\n",
    "## Description of Data\n",
    "The dataset includes information about various aspects of airplane crashes, such as location, date, aircraft characteristics, and injuries. It provides valuable insights into aviation safety and performance.\n",
    "\n",
    "The shape of the dataset is 31 columns by 79899 rows\n",
    "\n",
    "## Source of Data\n",
    "The dataset 'aviation_data.csv' has been used for the analysis. It contains comprehensive airplane crash statistics. The NTSB aviation accident database contains information from 1962 and later about civil aviation accidents and selected incidents within the United States, its territories and possessions, and in international waters.\n",
    "\n",
    "https://www.kaggle.com/datasets/khsamaha/aviation-accident-database-synopses"
   ]
  },
  {
   "cell_type": "code",
   "execution_count": 1,
   "metadata": {},
   "outputs": [],
   "source": [
    "import pandas as pd\n",
    "import datetime\n",
    "import matplotlib.pyplot as plt\n",
    "import numpy as np\n",
    "import seaborn as sns\n",
    "import warnings \n",
    "warnings.filterwarnings(\"ignore\")"
   ]
  },
  {
   "cell_type": "code",
   "execution_count": 2,
   "metadata": {},
   "outputs": [],
   "source": [
    "df = pd.read_csv('data/Aviation_Data.csv', low_memory=False)"
   ]
  },
  {
   "cell_type": "code",
   "execution_count": 3,
   "metadata": {},
   "outputs": [],
   "source": [
    "df.drop_duplicates(inplace=True)"
   ]
  },
  {
   "cell_type": "code",
   "execution_count": 4,
   "metadata": {},
   "outputs": [
    {
     "data": {
      "text/plain": [
       "Index(['Event.Id', 'Investigation.Type', 'Accident.Number', 'Event.Date',\n",
       "       'Location', 'Country', 'Latitude', 'Longitude', 'Airport.Code',\n",
       "       'Airport.Name', 'Injury.Severity', 'Aircraft.damage',\n",
       "       'Aircraft.Category', 'Registration.Number', 'Make', 'Model',\n",
       "       'Amateur.Built', 'Number.of.Engines', 'Engine.Type', 'FAR.Description',\n",
       "       'Schedule', 'Purpose.of.flight', 'Air.carrier', 'Total.Fatal.Injuries',\n",
       "       'Total.Serious.Injuries', 'Total.Minor.Injuries', 'Total.Uninjured',\n",
       "       'Weather.Condition', 'Broad.phase.of.flight', 'Report.Status',\n",
       "       'Publication.Date'],\n",
       "      dtype='object')"
      ]
     },
     "execution_count": 4,
     "metadata": {},
     "output_type": "execute_result"
    }
   ],
   "source": [
    "df.columns"
   ]
  },
  {
   "cell_type": "code",
   "execution_count": 5,
   "metadata": {},
   "outputs": [
    {
     "name": "stdout",
     "output_type": "stream",
     "text": [
      "<class 'pandas.core.frame.DataFrame'>\n",
      "Int64Index: 88958 entries, 0 to 90347\n",
      "Data columns (total 31 columns):\n",
      " #   Column                  Non-Null Count  Dtype  \n",
      "---  ------                  --------------  -----  \n",
      " 0   Event.Id                88889 non-null  object \n",
      " 1   Investigation.Type      88958 non-null  object \n",
      " 2   Accident.Number         88889 non-null  object \n",
      " 3   Event.Date              88889 non-null  object \n",
      " 4   Location                88837 non-null  object \n",
      " 5   Country                 88663 non-null  object \n",
      " 6   Latitude                34382 non-null  object \n",
      " 7   Longitude               34373 non-null  object \n",
      " 8   Airport.Code            50249 non-null  object \n",
      " 9   Airport.Name            52790 non-null  object \n",
      " 10  Injury.Severity         87889 non-null  object \n",
      " 11  Aircraft.damage         85695 non-null  object \n",
      " 12  Aircraft.Category       32287 non-null  object \n",
      " 13  Registration.Number     87572 non-null  object \n",
      " 14  Make                    88826 non-null  object \n",
      " 15  Model                   88797 non-null  object \n",
      " 16  Amateur.Built           88787 non-null  object \n",
      " 17  Number.of.Engines       82805 non-null  float64\n",
      " 18  Engine.Type             81812 non-null  object \n",
      " 19  FAR.Description         32023 non-null  object \n",
      " 20  Schedule                12582 non-null  object \n",
      " 21  Purpose.of.flight       82697 non-null  object \n",
      " 22  Air.carrier             16648 non-null  object \n",
      " 23  Total.Fatal.Injuries    77488 non-null  float64\n",
      " 24  Total.Serious.Injuries  76379 non-null  float64\n",
      " 25  Total.Minor.Injuries    76956 non-null  float64\n",
      " 26  Total.Uninjured         82977 non-null  float64\n",
      " 27  Weather.Condition       84397 non-null  object \n",
      " 28  Broad.phase.of.flight   61724 non-null  object \n",
      " 29  Report.Status           82508 non-null  object \n",
      " 30  Publication.Date        73659 non-null  object \n",
      "dtypes: float64(5), object(26)\n",
      "memory usage: 21.7+ MB\n"
     ]
    }
   ],
   "source": [
    "df.info()"
   ]
  },
  {
   "cell_type": "code",
   "execution_count": 6,
   "metadata": {},
   "outputs": [
    {
     "data": {
      "text/html": [
       "<div>\n",
       "<style scoped>\n",
       "    .dataframe tbody tr th:only-of-type {\n",
       "        vertical-align: middle;\n",
       "    }\n",
       "\n",
       "    .dataframe tbody tr th {\n",
       "        vertical-align: top;\n",
       "    }\n",
       "\n",
       "    .dataframe thead th {\n",
       "        text-align: right;\n",
       "    }\n",
       "</style>\n",
       "<table border=\"1\" class=\"dataframe\">\n",
       "  <thead>\n",
       "    <tr style=\"text-align: right;\">\n",
       "      <th></th>\n",
       "      <th>Number.of.Engines</th>\n",
       "      <th>Total.Fatal.Injuries</th>\n",
       "      <th>Total.Serious.Injuries</th>\n",
       "      <th>Total.Minor.Injuries</th>\n",
       "      <th>Total.Uninjured</th>\n",
       "    </tr>\n",
       "  </thead>\n",
       "  <tbody>\n",
       "    <tr>\n",
       "      <th>count</th>\n",
       "      <td>82805.000000</td>\n",
       "      <td>77488.000000</td>\n",
       "      <td>76379.000000</td>\n",
       "      <td>76956.000000</td>\n",
       "      <td>82977.000000</td>\n",
       "    </tr>\n",
       "    <tr>\n",
       "      <th>mean</th>\n",
       "      <td>1.146585</td>\n",
       "      <td>0.647855</td>\n",
       "      <td>0.279881</td>\n",
       "      <td>0.357061</td>\n",
       "      <td>5.325440</td>\n",
       "    </tr>\n",
       "    <tr>\n",
       "      <th>std</th>\n",
       "      <td>0.446510</td>\n",
       "      <td>5.485960</td>\n",
       "      <td>1.544084</td>\n",
       "      <td>2.235625</td>\n",
       "      <td>27.913634</td>\n",
       "    </tr>\n",
       "    <tr>\n",
       "      <th>min</th>\n",
       "      <td>0.000000</td>\n",
       "      <td>0.000000</td>\n",
       "      <td>0.000000</td>\n",
       "      <td>0.000000</td>\n",
       "      <td>0.000000</td>\n",
       "    </tr>\n",
       "    <tr>\n",
       "      <th>25%</th>\n",
       "      <td>1.000000</td>\n",
       "      <td>0.000000</td>\n",
       "      <td>0.000000</td>\n",
       "      <td>0.000000</td>\n",
       "      <td>0.000000</td>\n",
       "    </tr>\n",
       "    <tr>\n",
       "      <th>50%</th>\n",
       "      <td>1.000000</td>\n",
       "      <td>0.000000</td>\n",
       "      <td>0.000000</td>\n",
       "      <td>0.000000</td>\n",
       "      <td>1.000000</td>\n",
       "    </tr>\n",
       "    <tr>\n",
       "      <th>75%</th>\n",
       "      <td>1.000000</td>\n",
       "      <td>0.000000</td>\n",
       "      <td>0.000000</td>\n",
       "      <td>0.000000</td>\n",
       "      <td>2.000000</td>\n",
       "    </tr>\n",
       "    <tr>\n",
       "      <th>max</th>\n",
       "      <td>8.000000</td>\n",
       "      <td>349.000000</td>\n",
       "      <td>161.000000</td>\n",
       "      <td>380.000000</td>\n",
       "      <td>699.000000</td>\n",
       "    </tr>\n",
       "  </tbody>\n",
       "</table>\n",
       "</div>"
      ],
      "text/plain": [
       "       Number.of.Engines  Total.Fatal.Injuries  Total.Serious.Injuries  \\\n",
       "count       82805.000000          77488.000000            76379.000000   \n",
       "mean            1.146585              0.647855                0.279881   \n",
       "std             0.446510              5.485960                1.544084   \n",
       "min             0.000000              0.000000                0.000000   \n",
       "25%             1.000000              0.000000                0.000000   \n",
       "50%             1.000000              0.000000                0.000000   \n",
       "75%             1.000000              0.000000                0.000000   \n",
       "max             8.000000            349.000000              161.000000   \n",
       "\n",
       "       Total.Minor.Injuries  Total.Uninjured  \n",
       "count          76956.000000     82977.000000  \n",
       "mean               0.357061         5.325440  \n",
       "std                2.235625        27.913634  \n",
       "min                0.000000         0.000000  \n",
       "25%                0.000000         0.000000  \n",
       "50%                0.000000         1.000000  \n",
       "75%                0.000000         2.000000  \n",
       "max              380.000000       699.000000  "
      ]
     },
     "execution_count": 6,
     "metadata": {},
     "output_type": "execute_result"
    }
   ],
   "source": [
    "df.describe()"
   ]
  },
  {
   "cell_type": "code",
   "execution_count": 7,
   "metadata": {},
   "outputs": [
    {
     "data": {
      "text/plain": [
       "Event.Id                     69\n",
       "Investigation.Type            0\n",
       "Accident.Number              69\n",
       "Event.Date                   69\n",
       "Location                    121\n",
       "Country                     295\n",
       "Latitude                  54576\n",
       "Longitude                 54585\n",
       "Airport.Code              38709\n",
       "Airport.Name              36168\n",
       "Injury.Severity            1069\n",
       "Aircraft.damage            3263\n",
       "Aircraft.Category         56671\n",
       "Registration.Number        1386\n",
       "Make                        132\n",
       "Model                       161\n",
       "Amateur.Built               171\n",
       "Number.of.Engines          6153\n",
       "Engine.Type                7146\n",
       "FAR.Description           56935\n",
       "Schedule                  76376\n",
       "Purpose.of.flight          6261\n",
       "Air.carrier               72310\n",
       "Total.Fatal.Injuries      11470\n",
       "Total.Serious.Injuries    12579\n",
       "Total.Minor.Injuries      12002\n",
       "Total.Uninjured            5981\n",
       "Weather.Condition          4561\n",
       "Broad.phase.of.flight     27234\n",
       "Report.Status              6450\n",
       "Publication.Date          15299\n",
       "dtype: int64"
      ]
     },
     "execution_count": 7,
     "metadata": {},
     "output_type": "execute_result"
    }
   ],
   "source": [
    "df.isna().sum()"
   ]
  },
  {
   "cell_type": "markdown",
   "metadata": {},
   "source": [
    "##  DATA CLEANING\n",
    "\n",
    "-Drop columns with over 50% missing values\n",
    "\n",
    "-Drop records of not Accidents in United States\n",
    "\n",
    "-Convert Date to a datetime, add a Year & Month column\n",
    "\n",
    "-Remove data before 1982\n",
    "\n",
    "-Merge same airport names together\n",
    "\n",
    "-Merge same registration numbers together\n",
    "\n",
    "-Merge different capitalizations of Make togheter\n",
    "\n",
    "-Transform \"Amateur Built\" column to boolean\n",
    "\n",
    "-Split location in city and state\n",
    "\n",
    "-Remove amount of injuries as this is already in another column\n",
    "\n",
    "-Merge weather condition- UNK & unk to unknowns"
   ]
  },
  {
   "cell_type": "code",
   "execution_count": 8,
   "metadata": {},
   "outputs": [
    {
     "name": "stdout",
     "output_type": "stream",
     "text": [
      "                         Missing\n",
      "Schedule                0.858562\n",
      "Air.carrier             0.812856\n",
      "FAR.Description         0.640021\n",
      "Aircraft.Category       0.637053\n",
      "Longitude               0.613604\n",
      "Latitude                0.613503\n",
      "Airport.Code            0.435138\n",
      "Airport.Name            0.406574\n",
      "Broad.phase.of.flight   0.306144\n",
      "Publication.Date        0.171980\n",
      "Total.Serious.Injuries  0.141404\n",
      "Total.Minor.Injuries    0.134918\n",
      "Total.Fatal.Injuries    0.128937\n",
      "Engine.Type             0.080330\n",
      "Report.Status           0.072506\n",
      "Purpose.of.flight       0.070382\n",
      "Number.of.Engines       0.069167\n",
      "Total.Uninjured         0.067234\n",
      "Weather.Condition       0.051271\n"
     ]
    }
   ],
   "source": [
    "# get rid of rows with less than 40% non NAN values\n",
    "\n",
    "rows = len(df)\n",
    "missing = df.isna().sum()\n",
    "percentage_missing = missing/rows\n",
    "\n",
    "percentage_missing_df = pd.DataFrame({'Missing': percentage_missing})\n",
    "percentage_missing_df.sort_values('Missing', ascending = False, inplace = True)\n",
    "\n",
    "print(percentage_missing_df[percentage_missing_df['Missing']> .05])"
   ]
  },
  {
   "cell_type": "code",
   "execution_count": 9,
   "metadata": {},
   "outputs": [
    {
     "name": "stdout",
     "output_type": "stream",
     "text": [
      "['Schedule', 'Air.carrier', 'FAR.Description', 'Aircraft.Category', 'Longitude', 'Latitude']\n"
     ]
    }
   ],
   "source": [
    "# drop columns with over 60% null values\n",
    "drop_columns = list(percentage_missing_df[percentage_missing_df['Missing']>0.5].index)\n",
    "df.drop(columns = drop_columns, axis = 1, inplace = True)\n",
    "print(drop_columns)"
   ]
  },
  {
   "cell_type": "code",
   "execution_count": 10,
   "metadata": {},
   "outputs": [
    {
     "name": "stdout",
     "output_type": "stream",
     "text": [
      "9052 rows dropped.\n"
     ]
    }
   ],
   "source": [
    "#this code cell is reassigning the dataframe with only accidents in the investigation type column, as well as only countris in united states\n",
    "\n",
    "before = len(df)\n",
    "df = df[(df['Investigation.Type'] == 'Accident') & (df['Country'] == 'United States')]\n",
    "dropped = before - len(df)\n",
    "print(str(dropped) + ' rows dropped.')"
   ]
  },
  {
   "cell_type": "markdown",
   "metadata": {},
   "source": [
    "Here we are assigning The event dates to DateTime pandas objects. We then use this to create day, month, year, and weekend columns."
   ]
  },
  {
   "cell_type": "code",
   "execution_count": 11,
   "metadata": {},
   "outputs": [
    {
     "name": "stdout",
     "output_type": "stream",
     "text": [
      "<class 'pandas.core.frame.DataFrame'>\n",
      "Int64Index: 79906 entries, 0 to 90347\n",
      "Data columns (total 25 columns):\n",
      " #   Column                  Non-Null Count  Dtype         \n",
      "---  ------                  --------------  -----         \n",
      " 0   Event.Id                79906 non-null  object        \n",
      " 1   Investigation.Type      79906 non-null  object        \n",
      " 2   Accident.Number         79906 non-null  object        \n",
      " 3   Event.Date              79906 non-null  datetime64[ns]\n",
      " 4   Location                79895 non-null  object        \n",
      " 5   Country                 79906 non-null  object        \n",
      " 6   Airport.Code            47566 non-null  object        \n",
      " 7   Airport.Name            50000 non-null  object        \n",
      " 8   Injury.Severity         79854 non-null  object        \n",
      " 9   Aircraft.damage         78782 non-null  object        \n",
      " 10  Registration.Number     79903 non-null  object        \n",
      " 11  Make                    79894 non-null  object        \n",
      " 12  Model                   79877 non-null  object        \n",
      " 13  Amateur.Built           79891 non-null  object        \n",
      " 14  Number.of.Engines       78147 non-null  float64       \n",
      " 15  Engine.Type             77007 non-null  object        \n",
      " 16  Purpose.of.flight       78025 non-null  object        \n",
      " 17  Total.Fatal.Injuries    69641 non-null  float64       \n",
      " 18  Total.Serious.Injuries  68921 non-null  float64       \n",
      " 19  Total.Minor.Injuries    69551 non-null  float64       \n",
      " 20  Total.Uninjured         74911 non-null  float64       \n",
      " 21  Weather.Condition       79345 non-null  object        \n",
      " 22  Broad.phase.of.flight   59297 non-null  object        \n",
      " 23  Report.Status           77341 non-null  object        \n",
      " 24  Publication.Date        66212 non-null  object        \n",
      "dtypes: datetime64[ns](1), float64(5), object(19)\n",
      "memory usage: 15.9+ MB\n"
     ]
    }
   ],
   "source": [
    "df['Event.Date'] = pd.to_datetime(df['Event.Date'])\n",
    "df.info()"
   ]
  },
  {
   "cell_type": "code",
   "execution_count": 12,
   "metadata": {},
   "outputs": [],
   "source": [
    "#Add a day, month & year column\n",
    "df['Year'] = df['Event.Date'].dt.year\n",
    "df['Month.Abbr'] = df['Event.Date'].dt.month_name().str[:3]\n",
    "df['Day.Name.Abbr'] = df['Event.Date'].dt.day_name().str[:3]\n",
    "\n",
    "# Add a weekend column\n",
    "df.loc[(df['Day.Name.Abbr'] == 'Sat') | (df['Day.Name.Abbr'] == 'Sun'), 'Weekend'] = True\n",
    "df.loc[(df['Day.Name.Abbr'] != 'Sat') & (df['Day.Name.Abbr'] != 'Sun'), 'Weekend'] = False\n",
    "\n",
    "# Remove data before 1982\n",
    "df = df[df['Year'] >= 1982]"
   ]
  },
  {
   "cell_type": "markdown",
   "metadata": {},
   "source": [
    "Here we are merging imporperly named or capitalized columns together, such as airport names, registration numbers, and the makes of the different planes"
   ]
  },
  {
   "cell_type": "code",
   "execution_count": 13,
   "metadata": {},
   "outputs": [
    {
     "data": {
      "text/plain": [
       "PRIVATE          1204\n",
       "NONE              226\n",
       "MERRILL FIELD      83\n",
       "VAN NUYS           79\n",
       "MUNICIPAL          75\n",
       "CENTENNIAL         74\n",
       "UNKNOWN            68\n",
       "CHINO              53\n",
       "BIRCHWOOD          49\n",
       "SEDONA             47\n",
       "Name: Airport.Name, dtype: int64"
      ]
     },
     "execution_count": 13,
     "metadata": {},
     "output_type": "execute_result"
    }
   ],
   "source": [
    "# Merge same airport names togheter\n",
    "df.loc[:, 'Airport.Name'] = df['Airport.Name'].fillna('')  # Fill NaN values with empty strings\n",
    "\n",
    "# Replace values\n",
    "df.loc[df['Airport.Name'].str.contains('(?i)^.*private.*$', regex=True), 'Airport.Name'] = 'PRIVATE'\n",
    "df.loc[df['Airport.Name'].str.contains('(?i)none', regex=True), 'Airport.Name'] = 'NONE'\n",
    "\n",
    "# Replace empty strings with NaN\n",
    "df.loc[df['Airport.Name'] == '', 'Airport.Name'] = np.nan\n",
    "df['Airport.Name'].value_counts().nlargest(10)"
   ]
  },
  {
   "cell_type": "code",
   "execution_count": 14,
   "metadata": {},
   "outputs": [
    {
     "data": {
      "text/plain": [
       "NONE      406\n",
       "UNREG     114\n",
       "N20752      7\n",
       "N5408Y      6\n",
       "N11VH       6\n",
       "N121CC      6\n",
       "N53893      6\n",
       "N8402K      6\n",
       "N4101E      6\n",
       "N5246E      5\n",
       "Name: Registration.Number, dtype: int64"
      ]
     },
     "execution_count": 14,
     "metadata": {},
     "output_type": "execute_result"
    }
   ],
   "source": [
    "df['Registration.Number'].replace(to_replace = '(?i)none', value = 'NONE', inplace = True, regex = True)\n",
    "df['Registration.Number'].value_counts().nlargest(10)"
   ]
  },
  {
   "cell_type": "code",
   "execution_count": 15,
   "metadata": {},
   "outputs": [
    {
     "data": {
      "text/plain": [
       "Cessna      25566\n",
       "Piper       14008\n",
       "Beech        4892\n",
       "Bell         2236\n",
       "Mooney       1272\n",
       "Grumman      1131\n",
       "Bellanca     1036\n",
       "Boeing        931\n",
       "Robinson      916\n",
       "Hughes        868\n",
       "Name: Make, dtype: int64"
      ]
     },
     "execution_count": 15,
     "metadata": {},
     "output_type": "execute_result"
    }
   ],
   "source": [
    "# Merge different capitalizations of Make togheter\n",
    "df['Make'] = df['Make'].str.title()\n",
    "df['Make'].value_counts().nlargest(10)"
   ]
  },
  {
   "cell_type": "code",
   "execution_count": 16,
   "metadata": {},
   "outputs": [
    {
     "data": {
      "text/plain": [
       "False    71589\n",
       "True      8295\n",
       "Name: Amateur.Built, dtype: int64"
      ]
     },
     "execution_count": 16,
     "metadata": {},
     "output_type": "execute_result"
    }
   ],
   "source": [
    "# Transform Amateur Built to boolean\n",
    "df['Amateur.Built'].replace(to_replace = ['Yes', 'Y'], value = True, inplace = True, regex = False)\n",
    "df['Amateur.Built'].replace(to_replace = ['No', 'N'], value = False, inplace = True, regex = False)\n",
    "df['Amateur.Built'].value_counts()"
   ]
  },
  {
   "cell_type": "code",
   "execution_count": 17,
   "metadata": {},
   "outputs": [
    {
     "data": {
      "text/html": [
       "<div>\n",
       "<style scoped>\n",
       "    .dataframe tbody tr th:only-of-type {\n",
       "        vertical-align: middle;\n",
       "    }\n",
       "\n",
       "    .dataframe tbody tr th {\n",
       "        vertical-align: top;\n",
       "    }\n",
       "\n",
       "    .dataframe thead th {\n",
       "        text-align: right;\n",
       "    }\n",
       "</style>\n",
       "<table border=\"1\" class=\"dataframe\">\n",
       "  <thead>\n",
       "    <tr style=\"text-align: right;\">\n",
       "      <th></th>\n",
       "      <th>City</th>\n",
       "      <th>State</th>\n",
       "    </tr>\n",
       "  </thead>\n",
       "  <tbody>\n",
       "    <tr>\n",
       "      <th>7</th>\n",
       "      <td>PULLMAN</td>\n",
       "      <td>WA</td>\n",
       "    </tr>\n",
       "    <tr>\n",
       "      <th>8</th>\n",
       "      <td>EAST HANOVER</td>\n",
       "      <td>NJ</td>\n",
       "    </tr>\n",
       "    <tr>\n",
       "      <th>9</th>\n",
       "      <td>JACKSONVILLE</td>\n",
       "      <td>FL</td>\n",
       "    </tr>\n",
       "    <tr>\n",
       "      <th>10</th>\n",
       "      <td>HOBBS</td>\n",
       "      <td>NM</td>\n",
       "    </tr>\n",
       "    <tr>\n",
       "      <th>11</th>\n",
       "      <td>TUSKEGEE</td>\n",
       "      <td>AL</td>\n",
       "    </tr>\n",
       "    <tr>\n",
       "      <th>12</th>\n",
       "      <td>HOMER</td>\n",
       "      <td>LA</td>\n",
       "    </tr>\n",
       "    <tr>\n",
       "      <th>13</th>\n",
       "      <td>HEARNE</td>\n",
       "      <td>TX</td>\n",
       "    </tr>\n",
       "    <tr>\n",
       "      <th>14</th>\n",
       "      <td>CHICKASHA</td>\n",
       "      <td>OK</td>\n",
       "    </tr>\n",
       "    <tr>\n",
       "      <th>15</th>\n",
       "      <td>LITTLE ROCK</td>\n",
       "      <td>AR</td>\n",
       "    </tr>\n",
       "    <tr>\n",
       "      <th>16</th>\n",
       "      <td>MIDWAY</td>\n",
       "      <td>UT</td>\n",
       "    </tr>\n",
       "  </tbody>\n",
       "</table>\n",
       "</div>"
      ],
      "text/plain": [
       "            City State\n",
       "7        PULLMAN    WA\n",
       "8   EAST HANOVER    NJ\n",
       "9   JACKSONVILLE    FL\n",
       "10         HOBBS    NM\n",
       "11      TUSKEGEE    AL\n",
       "12         HOMER    LA\n",
       "13        HEARNE    TX\n",
       "14     CHICKASHA    OK\n",
       "15   LITTLE ROCK    AR\n",
       "16        MIDWAY    UT"
      ]
     },
     "execution_count": 17,
     "metadata": {},
     "output_type": "execute_result"
    }
   ],
   "source": [
    "# Split location in city and state\n",
    "df['City'] = df['Location'].str.split(',').str[0]\n",
    "df['State'] = df['Location'].str.split(',').str[1]\n",
    "df[['City', 'State']].head(10)"
   ]
  },
  {
   "cell_type": "code",
   "execution_count": 18,
   "metadata": {},
   "outputs": [
    {
     "data": {
      "text/plain": [
       "Non-Fatal      64457\n",
       "Fatal          15019\n",
       "Minor            203\n",
       "Serious          153\n",
       "Unavailable       15\n",
       "Name: Injury.Severity, dtype: int64"
      ]
     },
     "execution_count": 18,
     "metadata": {},
     "output_type": "execute_result"
    }
   ],
   "source": [
    "# Remove amount of injuries as this is aleady in another column\n",
    "df['Injury.Severity'] = df['Injury.Severity'].str.split('(').str[0]\n",
    "df['Injury.Severity'].value_counts()"
   ]
  },
  {
   "cell_type": "code",
   "execution_count": 19,
   "metadata": {},
   "outputs": [
    {
     "data": {
      "text/plain": [
       "VMC        73340\n",
       "IMC         5387\n",
       "Unknown      611\n",
       "Name: Weather.Condition, dtype: int64"
      ]
     },
     "execution_count": 19,
     "metadata": {},
     "output_type": "execute_result"
    }
   ],
   "source": [
    "# Merge weather condition unknowns\n",
    "df['Weather.Condition'].replace(to_replace = ['Unk', 'UNK'], value = 'Unknown', inplace = True, regex = False)\n",
    "df['Weather.Condition'].value_counts()"
   ]
  },
  {
   "cell_type": "markdown",
   "metadata": {},
   "source": [
    "## DATA EXPLORATION\n",
    "\n",
    "-Amount of total and fatal accidents per year\n",
    "\n",
    "-Months with most accidents\n",
    "\n",
    "-Days with most accidents\n",
    "\n",
    "-Purpose of flight depending on the day\n",
    "\n",
    "-Number of aviation accidents per phase of flight"
   ]
  },
  {
   "cell_type": "markdown",
   "metadata": {},
   "source": []
  },
  {
   "cell_type": "markdown",
   "metadata": {},
   "source": []
  },
  {
   "cell_type": "markdown",
   "metadata": {},
   "source": [
    "Here we will be creating a graph for Number of aviation accidents per year, per month, and per day. we do this with our new dataframe injury_data that has had unavaailable injury data filtered out"
   ]
  },
  {
   "cell_type": "code",
   "execution_count": 20,
   "metadata": {},
   "outputs": [
    {
     "data": {
      "text/html": [
       "<div>\n",
       "<style scoped>\n",
       "    .dataframe tbody tr th:only-of-type {\n",
       "        vertical-align: middle;\n",
       "    }\n",
       "\n",
       "    .dataframe tbody tr th {\n",
       "        vertical-align: top;\n",
       "    }\n",
       "\n",
       "    .dataframe thead th {\n",
       "        text-align: right;\n",
       "    }\n",
       "</style>\n",
       "<table border=\"1\" class=\"dataframe\">\n",
       "  <thead>\n",
       "    <tr style=\"text-align: right;\">\n",
       "      <th></th>\n",
       "      <th>Year</th>\n",
       "      <th>Event.Id</th>\n",
       "    </tr>\n",
       "  </thead>\n",
       "  <tbody>\n",
       "    <tr>\n",
       "      <th>0</th>\n",
       "      <td>1982</td>\n",
       "      <td>3445</td>\n",
       "    </tr>\n",
       "    <tr>\n",
       "      <th>1</th>\n",
       "      <td>1983</td>\n",
       "      <td>3391</td>\n",
       "    </tr>\n",
       "    <tr>\n",
       "      <th>2</th>\n",
       "      <td>1984</td>\n",
       "      <td>3290</td>\n",
       "    </tr>\n",
       "    <tr>\n",
       "      <th>3</th>\n",
       "      <td>1985</td>\n",
       "      <td>2972</td>\n",
       "    </tr>\n",
       "    <tr>\n",
       "      <th>4</th>\n",
       "      <td>1986</td>\n",
       "      <td>2758</td>\n",
       "    </tr>\n",
       "    <tr>\n",
       "      <th>5</th>\n",
       "      <td>1987</td>\n",
       "      <td>2665</td>\n",
       "    </tr>\n",
       "    <tr>\n",
       "      <th>6</th>\n",
       "      <td>1988</td>\n",
       "      <td>2537</td>\n",
       "    </tr>\n",
       "    <tr>\n",
       "      <th>7</th>\n",
       "      <td>1989</td>\n",
       "      <td>2410</td>\n",
       "    </tr>\n",
       "    <tr>\n",
       "      <th>8</th>\n",
       "      <td>1990</td>\n",
       "      <td>2403</td>\n",
       "    </tr>\n",
       "    <tr>\n",
       "      <th>9</th>\n",
       "      <td>1991</td>\n",
       "      <td>2350</td>\n",
       "    </tr>\n",
       "    <tr>\n",
       "      <th>10</th>\n",
       "      <td>1992</td>\n",
       "      <td>2233</td>\n",
       "    </tr>\n",
       "    <tr>\n",
       "      <th>11</th>\n",
       "      <td>1993</td>\n",
       "      <td>2173</td>\n",
       "    </tr>\n",
       "    <tr>\n",
       "      <th>12</th>\n",
       "      <td>1994</td>\n",
       "      <td>2135</td>\n",
       "    </tr>\n",
       "    <tr>\n",
       "      <th>13</th>\n",
       "      <td>1995</td>\n",
       "      <td>2153</td>\n",
       "    </tr>\n",
       "    <tr>\n",
       "      <th>14</th>\n",
       "      <td>1996</td>\n",
       "      <td>2048</td>\n",
       "    </tr>\n",
       "    <tr>\n",
       "      <th>15</th>\n",
       "      <td>1997</td>\n",
       "      <td>1970</td>\n",
       "    </tr>\n",
       "    <tr>\n",
       "      <th>16</th>\n",
       "      <td>1998</td>\n",
       "      <td>2032</td>\n",
       "    </tr>\n",
       "    <tr>\n",
       "      <th>17</th>\n",
       "      <td>1999</td>\n",
       "      <td>2030</td>\n",
       "    </tr>\n",
       "    <tr>\n",
       "      <th>18</th>\n",
       "      <td>2000</td>\n",
       "      <td>1982</td>\n",
       "    </tr>\n",
       "    <tr>\n",
       "      <th>19</th>\n",
       "      <td>2001</td>\n",
       "      <td>1857</td>\n",
       "    </tr>\n",
       "    <tr>\n",
       "      <th>20</th>\n",
       "      <td>2002</td>\n",
       "      <td>1833</td>\n",
       "    </tr>\n",
       "    <tr>\n",
       "      <th>21</th>\n",
       "      <td>2003</td>\n",
       "      <td>1891</td>\n",
       "    </tr>\n",
       "    <tr>\n",
       "      <th>22</th>\n",
       "      <td>2004</td>\n",
       "      <td>1737</td>\n",
       "    </tr>\n",
       "    <tr>\n",
       "      <th>23</th>\n",
       "      <td>2005</td>\n",
       "      <td>1804</td>\n",
       "    </tr>\n",
       "    <tr>\n",
       "      <th>24</th>\n",
       "      <td>2006</td>\n",
       "      <td>1613</td>\n",
       "    </tr>\n",
       "    <tr>\n",
       "      <th>25</th>\n",
       "      <td>2007</td>\n",
       "      <td>1763</td>\n",
       "    </tr>\n",
       "    <tr>\n",
       "      <th>26</th>\n",
       "      <td>2008</td>\n",
       "      <td>1642</td>\n",
       "    </tr>\n",
       "    <tr>\n",
       "      <th>27</th>\n",
       "      <td>2009</td>\n",
       "      <td>1549</td>\n",
       "    </tr>\n",
       "    <tr>\n",
       "      <th>28</th>\n",
       "      <td>2010</td>\n",
       "      <td>1496</td>\n",
       "    </tr>\n",
       "    <tr>\n",
       "      <th>29</th>\n",
       "      <td>2011</td>\n",
       "      <td>1551</td>\n",
       "    </tr>\n",
       "    <tr>\n",
       "      <th>30</th>\n",
       "      <td>2012</td>\n",
       "      <td>1533</td>\n",
       "    </tr>\n",
       "    <tr>\n",
       "      <th>31</th>\n",
       "      <td>2013</td>\n",
       "      <td>1282</td>\n",
       "    </tr>\n",
       "    <tr>\n",
       "      <th>32</th>\n",
       "      <td>2014</td>\n",
       "      <td>1281</td>\n",
       "    </tr>\n",
       "    <tr>\n",
       "      <th>33</th>\n",
       "      <td>2015</td>\n",
       "      <td>1289</td>\n",
       "    </tr>\n",
       "    <tr>\n",
       "      <th>34</th>\n",
       "      <td>2016</td>\n",
       "      <td>1317</td>\n",
       "    </tr>\n",
       "    <tr>\n",
       "      <th>35</th>\n",
       "      <td>2017</td>\n",
       "      <td>1311</td>\n",
       "    </tr>\n",
       "    <tr>\n",
       "      <th>36</th>\n",
       "      <td>2018</td>\n",
       "      <td>1336</td>\n",
       "    </tr>\n",
       "    <tr>\n",
       "      <th>37</th>\n",
       "      <td>2019</td>\n",
       "      <td>1296</td>\n",
       "    </tr>\n",
       "    <tr>\n",
       "      <th>38</th>\n",
       "      <td>2020</td>\n",
       "      <td>1131</td>\n",
       "    </tr>\n",
       "    <tr>\n",
       "      <th>39</th>\n",
       "      <td>2021</td>\n",
       "      <td>1173</td>\n",
       "    </tr>\n",
       "    <tr>\n",
       "      <th>40</th>\n",
       "      <td>2022</td>\n",
       "      <td>1237</td>\n",
       "    </tr>\n",
       "  </tbody>\n",
       "</table>\n",
       "</div>"
      ],
      "text/plain": [
       "    Year  Event.Id\n",
       "0   1982      3445\n",
       "1   1983      3391\n",
       "2   1984      3290\n",
       "3   1985      2972\n",
       "4   1986      2758\n",
       "5   1987      2665\n",
       "6   1988      2537\n",
       "7   1989      2410\n",
       "8   1990      2403\n",
       "9   1991      2350\n",
       "10  1992      2233\n",
       "11  1993      2173\n",
       "12  1994      2135\n",
       "13  1995      2153\n",
       "14  1996      2048\n",
       "15  1997      1970\n",
       "16  1998      2032\n",
       "17  1999      2030\n",
       "18  2000      1982\n",
       "19  2001      1857\n",
       "20  2002      1833\n",
       "21  2003      1891\n",
       "22  2004      1737\n",
       "23  2005      1804\n",
       "24  2006      1613\n",
       "25  2007      1763\n",
       "26  2008      1642\n",
       "27  2009      1549\n",
       "28  2010      1496\n",
       "29  2011      1551\n",
       "30  2012      1533\n",
       "31  2013      1282\n",
       "32  2014      1281\n",
       "33  2015      1289\n",
       "34  2016      1317\n",
       "35  2017      1311\n",
       "36  2018      1336\n",
       "37  2019      1296\n",
       "38  2020      1131\n",
       "39  2021      1173\n",
       "40  2022      1237"
      ]
     },
     "execution_count": 20,
     "metadata": {},
     "output_type": "execute_result"
    }
   ],
   "source": [
    "injury_data = df[df['Injury.Severity'] != 'Unavailable']\n",
    "\n",
    "# Number of accidents per year\n",
    "accidents_per_year = df.groupby(['Year'], as_index = False)['Event.Id'].count()\n",
    "accidents_per_year"
   ]
  },
  {
   "cell_type": "code",
   "execution_count": 21,
   "metadata": {},
   "outputs": [
    {
     "data": {
      "image/png": "[encoded data removed]",
      "text/plain": [
       "<Figure size 640x480 with 1 Axes>"
      ]
     },
     "metadata": {},
     "output_type": "display_data"
    }
   ],
   "source": [
    "plot = sns.lineplot(x = 'Year', y = 'Event.Id', data = accidents_per_year)"
   ]
  },
  {
   "cell_type": "code",
   "execution_count": 22,
   "metadata": {},
   "outputs": [
    {
     "data": {
      "text/html": [
       "<div>\n",
       "<style scoped>\n",
       "    .dataframe tbody tr th:only-of-type {\n",
       "        vertical-align: middle;\n",
       "    }\n",
       "\n",
       "    .dataframe tbody tr th {\n",
       "        vertical-align: top;\n",
       "    }\n",
       "\n",
       "    .dataframe thead th {\n",
       "        text-align: right;\n",
       "    }\n",
       "</style>\n",
       "<table border=\"1\" class=\"dataframe\">\n",
       "  <thead>\n",
       "    <tr style=\"text-align: right;\">\n",
       "      <th></th>\n",
       "      <th>Year</th>\n",
       "      <th>Event.Id</th>\n",
       "    </tr>\n",
       "  </thead>\n",
       "  <tbody>\n",
       "    <tr>\n",
       "      <th>0</th>\n",
       "      <td>1982</td>\n",
       "      <td>644</td>\n",
       "    </tr>\n",
       "    <tr>\n",
       "      <th>1</th>\n",
       "      <td>1983</td>\n",
       "      <td>654</td>\n",
       "    </tr>\n",
       "    <tr>\n",
       "      <th>2</th>\n",
       "      <td>1984</td>\n",
       "      <td>617</td>\n",
       "    </tr>\n",
       "    <tr>\n",
       "      <th>3</th>\n",
       "      <td>1985</td>\n",
       "      <td>558</td>\n",
       "    </tr>\n",
       "    <tr>\n",
       "      <th>4</th>\n",
       "      <td>1986</td>\n",
       "      <td>516</td>\n",
       "    </tr>\n",
       "    <tr>\n",
       "      <th>5</th>\n",
       "      <td>1987</td>\n",
       "      <td>489</td>\n",
       "    </tr>\n",
       "    <tr>\n",
       "      <th>6</th>\n",
       "      <td>1988</td>\n",
       "      <td>492</td>\n",
       "    </tr>\n",
       "    <tr>\n",
       "      <th>7</th>\n",
       "      <td>1989</td>\n",
       "      <td>479</td>\n",
       "    </tr>\n",
       "    <tr>\n",
       "      <th>8</th>\n",
       "      <td>1990</td>\n",
       "      <td>499</td>\n",
       "    </tr>\n",
       "    <tr>\n",
       "      <th>9</th>\n",
       "      <td>1991</td>\n",
       "      <td>478</td>\n",
       "    </tr>\n",
       "    <tr>\n",
       "      <th>10</th>\n",
       "      <td>1992</td>\n",
       "      <td>484</td>\n",
       "    </tr>\n",
       "    <tr>\n",
       "      <th>11</th>\n",
       "      <td>1993</td>\n",
       "      <td>426</td>\n",
       "    </tr>\n",
       "    <tr>\n",
       "      <th>12</th>\n",
       "      <td>1994</td>\n",
       "      <td>438</td>\n",
       "    </tr>\n",
       "    <tr>\n",
       "      <th>13</th>\n",
       "      <td>1995</td>\n",
       "      <td>430</td>\n",
       "    </tr>\n",
       "    <tr>\n",
       "      <th>14</th>\n",
       "      <td>1996</td>\n",
       "      <td>381</td>\n",
       "    </tr>\n",
       "    <tr>\n",
       "      <th>15</th>\n",
       "      <td>1997</td>\n",
       "      <td>371</td>\n",
       "    </tr>\n",
       "    <tr>\n",
       "      <th>16</th>\n",
       "      <td>1998</td>\n",
       "      <td>383</td>\n",
       "    </tr>\n",
       "    <tr>\n",
       "      <th>17</th>\n",
       "      <td>1999</td>\n",
       "      <td>352</td>\n",
       "    </tr>\n",
       "    <tr>\n",
       "      <th>18</th>\n",
       "      <td>2000</td>\n",
       "      <td>373</td>\n",
       "    </tr>\n",
       "    <tr>\n",
       "      <th>19</th>\n",
       "      <td>2001</td>\n",
       "      <td>351</td>\n",
       "    </tr>\n",
       "    <tr>\n",
       "      <th>20</th>\n",
       "      <td>2002</td>\n",
       "      <td>363</td>\n",
       "    </tr>\n",
       "    <tr>\n",
       "      <th>21</th>\n",
       "      <td>2003</td>\n",
       "      <td>377</td>\n",
       "    </tr>\n",
       "    <tr>\n",
       "      <th>22</th>\n",
       "      <td>2004</td>\n",
       "      <td>349</td>\n",
       "    </tr>\n",
       "    <tr>\n",
       "      <th>23</th>\n",
       "      <td>2005</td>\n",
       "      <td>335</td>\n",
       "    </tr>\n",
       "    <tr>\n",
       "      <th>24</th>\n",
       "      <td>2006</td>\n",
       "      <td>322</td>\n",
       "    </tr>\n",
       "    <tr>\n",
       "      <th>25</th>\n",
       "      <td>2007</td>\n",
       "      <td>303</td>\n",
       "    </tr>\n",
       "    <tr>\n",
       "      <th>26</th>\n",
       "      <td>2008</td>\n",
       "      <td>283</td>\n",
       "    </tr>\n",
       "    <tr>\n",
       "      <th>27</th>\n",
       "      <td>2009</td>\n",
       "      <td>268</td>\n",
       "    </tr>\n",
       "    <tr>\n",
       "      <th>28</th>\n",
       "      <td>2010</td>\n",
       "      <td>265</td>\n",
       "    </tr>\n",
       "    <tr>\n",
       "      <th>29</th>\n",
       "      <td>2011</td>\n",
       "      <td>278</td>\n",
       "    </tr>\n",
       "    <tr>\n",
       "      <th>30</th>\n",
       "      <td>2012</td>\n",
       "      <td>270</td>\n",
       "    </tr>\n",
       "    <tr>\n",
       "      <th>31</th>\n",
       "      <td>2013</td>\n",
       "      <td>220</td>\n",
       "    </tr>\n",
       "    <tr>\n",
       "      <th>32</th>\n",
       "      <td>2014</td>\n",
       "      <td>253</td>\n",
       "    </tr>\n",
       "    <tr>\n",
       "      <th>33</th>\n",
       "      <td>2015</td>\n",
       "      <td>235</td>\n",
       "    </tr>\n",
       "    <tr>\n",
       "      <th>34</th>\n",
       "      <td>2016</td>\n",
       "      <td>210</td>\n",
       "    </tr>\n",
       "    <tr>\n",
       "      <th>35</th>\n",
       "      <td>2017</td>\n",
       "      <td>205</td>\n",
       "    </tr>\n",
       "    <tr>\n",
       "      <th>36</th>\n",
       "      <td>2018</td>\n",
       "      <td>224</td>\n",
       "    </tr>\n",
       "    <tr>\n",
       "      <th>37</th>\n",
       "      <td>2019</td>\n",
       "      <td>240</td>\n",
       "    </tr>\n",
       "    <tr>\n",
       "      <th>38</th>\n",
       "      <td>2020</td>\n",
       "      <td>200</td>\n",
       "    </tr>\n",
       "    <tr>\n",
       "      <th>39</th>\n",
       "      <td>2021</td>\n",
       "      <td>200</td>\n",
       "    </tr>\n",
       "    <tr>\n",
       "      <th>40</th>\n",
       "      <td>2022</td>\n",
       "      <td>204</td>\n",
       "    </tr>\n",
       "  </tbody>\n",
       "</table>\n",
       "</div>"
      ],
      "text/plain": [
       "    Year  Event.Id\n",
       "0   1982       644\n",
       "1   1983       654\n",
       "2   1984       617\n",
       "3   1985       558\n",
       "4   1986       516\n",
       "5   1987       489\n",
       "6   1988       492\n",
       "7   1989       479\n",
       "8   1990       499\n",
       "9   1991       478\n",
       "10  1992       484\n",
       "11  1993       426\n",
       "12  1994       438\n",
       "13  1995       430\n",
       "14  1996       381\n",
       "15  1997       371\n",
       "16  1998       383\n",
       "17  1999       352\n",
       "18  2000       373\n",
       "19  2001       351\n",
       "20  2002       363\n",
       "21  2003       377\n",
       "22  2004       349\n",
       "23  2005       335\n",
       "24  2006       322\n",
       "25  2007       303\n",
       "26  2008       283\n",
       "27  2009       268\n",
       "28  2010       265\n",
       "29  2011       278\n",
       "30  2012       270\n",
       "31  2013       220\n",
       "32  2014       253\n",
       "33  2015       235\n",
       "34  2016       210\n",
       "35  2017       205\n",
       "36  2018       224\n",
       "37  2019       240\n",
       "38  2020       200\n",
       "39  2021       200\n",
       "40  2022       204"
      ]
     },
     "execution_count": 22,
     "metadata": {},
     "output_type": "execute_result"
    }
   ],
   "source": [
    "fatal_accidents_per_year = df[df['Injury.Severity'] == 'Fatal'].groupby(['Year'], as_index = False)['Event.Id'].count()\n",
    "fatal_accidents_per_year"
   ]
  },
  {
   "cell_type": "code",
   "execution_count": 23,
   "metadata": {},
   "outputs": [
    {
     "data": {
      "text/plain": [
       "[Text(0.5, 0, 'Month'),\n",
       " Text(0, 0.5, ''),\n",
       " Text(0.5, 1.0, 'Number of aviation accidents per month')]"
      ]
     },
     "execution_count": 23,
     "metadata": {},
     "output_type": "execute_result"
    },
    {
     "data": {
      "image/png": "[encoded data removed]",
      "text/plain": [
       "<Figure size 640x480 with 1 Axes>"
      ]
     },
     "metadata": {},
     "output_type": "display_data"
    }
   ],
   "source": [
    "# Months with the most accidents\n",
    "plot = sns.countplot(x = 'Month.Abbr', color = 'r', data = df)\n",
    "plot.set(xlabel = 'Month', ylabel = None, title = 'Number of aviation accidents per month')"
   ]
  },
  {
   "cell_type": "code",
   "execution_count": 24,
   "metadata": {},
   "outputs": [
    {
     "data": {
      "text/plain": [
       "[Text(0.5, 0, 'day'),\n",
       " Text(0, 0.5, ''),\n",
       " Text(0.5, 1.0, 'Number of aviation accidents per day of the week')]"
      ]
     },
     "execution_count": 24,
     "metadata": {},
     "output_type": "execute_result"
    },
    {
     "data": {
      "image/png": "[encoded data removed]",
      "text/plain": [
       "<Figure size 640x480 with 1 Axes>"
      ]
     },
     "metadata": {},
     "output_type": "display_data"
    }
   ],
   "source": [
    "# Days with the most accidents\n",
    "plot = sns.countplot(x = 'Day.Name.Abbr', order = ['Mon','Tue','Wed','Thu','Fri','Sat', 'Sun'], color = 'b', data = df)\n",
    "plot.set(xlabel = 'day', ylabel = None, title = 'Number of aviation accidents per day of the week')"
   ]
  },
  {
   "cell_type": "markdown",
   "metadata": {},
   "source": [
    "Here we will be making graphs for purpose of flight compared to the day. We do additional cleaning here to remove unknown purpose fights.  We also melt purpose day data so that seaborn can more easily interpret this into a graph.  After applying the melt function, the resulting melted_pdd DataFrame will have a long format where each row represents a combination of \"Purpose,\" \"day,\" and \"percentage.\" "
   ]
  },
  {
   "cell_type": "code",
   "execution_count": 25,
   "metadata": {},
   "outputs": [],
   "source": [
    "# Remove data with unknown purpose\n",
    "purpose_data = df[df['Purpose.of.flight'] != 'Unknown']"
   ]
  },
  {
   "cell_type": "code",
   "execution_count": 26,
   "metadata": {},
   "outputs": [],
   "source": [
    "# Calculate relative importance of purpose depending on weekend\n",
    "weekday_accidents = len(purpose_data[purpose_data['Weekend'] == False])\n",
    "weekday_data = purpose_data[purpose_data['Weekend'] == False]['Purpose.of.flight'].value_counts() / weekday_accidents\n",
    "\n",
    "weekend_accidents = len(purpose_data[purpose_data['Weekend'] == True])\n",
    "weekend_data = purpose_data[purpose_data['Weekend'] == True]['Purpose.of.flight'].value_counts() / weekend_accidents"
   ]
  },
  {
   "cell_type": "code",
   "execution_count": 27,
   "metadata": {},
   "outputs": [],
   "source": [
    "# Merge data togheter\n",
    "purpose_day_data = pd.merge(weekday_data, weekend_data, left_index=True, right_index=True)"
   ]
  },
  {
   "cell_type": "code",
   "execution_count": 28,
   "metadata": {},
   "outputs": [],
   "source": [
    "# Rename columns and only keep top 5 purposes\n",
    "purpose_day_data.reset_index(inplace = True)\n",
    "purpose_day_data.rename(columns={'index': 'Purpose', 'Purpose.of.flight_x': 'Weekday', 'Purpose.of.flight_y': 'Weekend'}, inplace=True)\n",
    "purpose_day_data = purpose_day_data.iloc[:5] "
   ]
  },
  {
   "cell_type": "code",
   "execution_count": 29,
   "metadata": {},
   "outputs": [],
   "source": [
    "# Melt the data so it can be used in a Seaborn plot\n",
    "melted_pdd = purpose_day_data.melt('Purpose', var_name='day', value_name='percentage')"
   ]
  },
  {
   "cell_type": "code",
   "execution_count": 30,
   "metadata": {},
   "outputs": [
    {
     "data": {
      "text/plain": [
       "<matplotlib.legend.Legend at 0x28e11af1090>"
      ]
     },
     "execution_count": 30,
     "metadata": {},
     "output_type": "execute_result"
    },
    {
     "data": {
      "image/png": "[encoded data removed]",
      "text/plain": [
       "<Figure size 640x480 with 1 Axes>"
      ]
     },
     "metadata": {},
     "output_type": "display_data"
    }
   ],
   "source": [
    "# Plot the data\n",
    "ax = sns.barplot(x='Purpose', y='percentage', hue='day', data = melted_pdd, palette = ['g','r'])\n",
    "ax.set(ylabel = None, title = 'Purpose of flight depending on day')\n",
    "plt.legend(title = \"Day\")\n"
   ]
  },
  {
   "cell_type": "markdown",
   "metadata": {},
   "source": [
    "The following graph showcases the number of aviation accidents per phase of the flight"
   ]
  },
  {
   "cell_type": "code",
   "execution_count": 31,
   "metadata": {},
   "outputs": [
    {
     "data": {
      "text/plain": [
       "[Text(0, 0, 'Landing'),\n",
       " Text(1, 0, 'Takeoff'),\n",
       " Text(2, 0, 'Cruise'),\n",
       " Text(3, 0, 'Maneuvering'),\n",
       " Text(4, 0, 'Approach'),\n",
       " Text(5, 0, 'Climb'),\n",
       " Text(6, 0, 'Taxi'),\n",
       " Text(7, 0, 'Descent'),\n",
       " Text(8, 0, 'Go-around'),\n",
       " Text(9, 0, 'Standing')]"
      ]
     },
     "execution_count": 31,
     "metadata": {},
     "output_type": "execute_result"
    },
    {
     "data": {
      "image/png": "[encoded data removed]",
      "text/plain": [
       "<Figure size 640x480 with 1 Axes>"
      ]
     },
     "metadata": {},
     "output_type": "display_data"
    }
   ],
   "source": [
    "# At what stage do accidents happen\n",
    "stage_of_flight_data = df[(df['Broad.phase.of.flight'] != 'Unknown') & (df['Broad.phase.of.flight'] != 'Other')]\n",
    "plot = sns.countplot(x = 'Broad.phase.of.flight', order = stage_of_flight_data['Broad.phase.of.flight'].value_counts().index, color = 'b', data = stage_of_flight_data)\n",
    "plot.set(xlabel = 'Stage of flight', ylabel = None, title = 'Number of aviation accidents per phase of flight')\n",
    "plot.set_xticklabels(plot.get_xticklabels(),rotation = 30, ha = 'right')"
   ]
  },
  {
   "cell_type": "markdown",
   "metadata": {},
   "source": [
    "Here we crate a visualization that represents the distributon of planes make."
   ]
  },
  {
   "cell_type": "code",
   "execution_count": 32,
   "metadata": {},
   "outputs": [
    {
     "data": {
      "image/png": "[encoded data removed]",
      "text/plain": [
       "<Figure size 1000x600 with 1 Axes>"
      ]
     },
     "metadata": {},
     "output_type": "display_data"
    }
   ],
   "source": [
    "make_counts = df['Make'].value_counts()\n",
    "\n",
    "#top_10_makes = make_counts.head(10)\n",
    "\n",
    "# Create a colorful bar chart\n",
    "plt.figure(figsize=(10, 6))\n",
    "color_palette = plt.colormaps['Set3'] \n",
    "\n",
    "bars = plt.bar(make_counts.head(10).index, make_counts.head(10).values, color=color_palette(range(10)))\n",
    "\n",
    "plt.xlabel('Plane Make')\n",
    "plt.ylabel('Count')\n",
    "plt.title('Number of Planes by Make')\n",
    "plt.xticks(rotation=45, ha='right')\n",
    "\n",
    "plt.tight_layout()\n",
    "plt.show()"
   ]
  },
  {
   "cell_type": "code",
   "execution_count": 33,
   "metadata": {},
   "outputs": [
    {
     "data": {
      "text/plain": [
       "7              140\n",
       "8             401B\n",
       "9     NAVION L-17B\n",
       "10       PA-28-161\n",
       "11            V35B\n",
       "Name: Model, dtype: object"
      ]
     },
     "execution_count": 33,
     "metadata": {},
     "output_type": "execute_result"
    }
   ],
   "source": [
    "df['Model'].head()"
   ]
  },
  {
   "cell_type": "code",
   "execution_count": 34,
   "metadata": {},
   "outputs": [],
   "source": [
    "#export data to a new csv file for tableau visuals\n",
    "df.to_csv('data/output.csv', index=False)"
   ]
  },
  {
   "cell_type": "markdown",
   "metadata": {},
   "source": [
    "## Summary of Conclusions\n",
    "The analysis of the aviation dataset yielded three relevant findings:\n",
    "\n",
    "Commercial Planes Perform Better: The analysis indicates that commercial airplanes generally exhibit better safety and performance metrics compared to other types of aircraft.\n",
    "Newer Planes are Safer: Newer airplanes tend to have better safety records and performance metrics compared to older planes. Investing in modern aircraft might contribute to improved outcomes.\n",
    "Flying in Colder Months: Contrary to expectations, the analysis suggests that flying during colder months is associated with better safety records. Further investigation into the reasons behind this trend could be valuable.\n",
    "These insights will play a crucial role in Anthony and Michael's decision-making process as they expand their business into the aviation industry.\n",
    "\n",
    "\n",
    "## Next Steps\n",
    "As Anthony and Michael continue their journey into the aviation industry, there are several key next steps they plan to take:\n",
    "\n",
    "#1. Deeper Analysis and Modeling\n",
    "\n",
    "While the initial analysis has provided valuable insights, the duo intends to delve deeper into the dataset, and merging in more in depth models that give a broader range of data. Some examples include specificifying our fatalaties by state into a per capita metric. Concurrent data including prices of planes by make, model, age, and engine type. This would involve exploring more complex relationships between variables and employing advanced machine learning techniques to build predictive models. By harnessing the power of data science, they aim to create models that can forecast potential safety concerns, aircraft performance, and even identify emerging trends.\n",
    "\n",
    "#2. Collaboration with Industry Experts\n",
    "\n",
    "Recognizing the complexity and depth of the aviation industry, Anthony and Michael intend to collaborate with industry experts, regulatory bodies, and aviation professionals. By leveraging their newfound resources and connections, they aim to gain a holistic understanding of the sector's challenges and opportunities. This collaborative approach will enable them to make informed decisions and align their ventures with industry best practices.\n",
    "\n",
    "#3. Implementing Data-Driven Business Strategies\n",
    "\n",
    "Anthony and Michael have always emphasized the importance of data-driven decision-making. They plan to apply this principle to every facet of their aviation ventures. By integrating data analytics into operations, maintenance, leasing strategies, and risk assessment, they hope to optimize their business processes and maximize returns on investments.\n",
    "\n",
    "#4. Continuous Learning and Adaptation\n",
    "\n",
    "The aviation industry is dynamic and ever-evolving. Anthony and Michael are committed to staying ahead of the curve by continuously learning about emerging technologies, regulatory changes, and industry advancements. They recognize that maintaining a growth mindset and adapting their strategies will be essential to long-term success.\n",
    "\n",
    "#5. Sharing Insights with the Community\n",
    "\n",
    "As advocates for the power of data science, Anthony and Michael plan to share their insights, findings, and best practices with the broader community. This may involve contributing to industry publications, presenting at conferences, and hosting workshops. By fostering knowledge exchange, they aim to contribute positively to the aviation industry's growth and innovation.\n",
    "\n",
    "Anthony and Michael are excited about the future of their aviation ventures. With a strong foundation in data science and a passion for aviation, they are well-positioned to make meaningful contributions and thrive in this new venture.\n",
    "\n",
    "For more information on their analyses and progress, keep an eye on this repository and follow their journey on social media.\n",
    "\n"
   ]
  }
 ],
 "metadata": {
  "kernelspec": {
   "display_name": "Python 3 (ipykernel)",
   "language": "python",
   "name": "python3"
  },
  "language_info": {
   "codemirror_mode": {
    "name": "ipython",
    "version": 3
   },
   "file_extension": ".py",
   "mimetype": "text/x-python",
   "name": "python",
   "nbconvert_exporter": "python",
   "pygments_lexer": "ipython3",
   "version": "3.11.3"
  }
 },
 "nbformat": 4,
 "nbformat_minor": 2
}
